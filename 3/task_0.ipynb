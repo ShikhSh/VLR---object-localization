{
 "cells": [
  {
   "cell_type": "markdown",
   "id": "overhead-clinic",
   "metadata": {},
   "source": [
    "# Part 0: Dataloader and Visualizations"
   ]
  },
  {
   "cell_type": "code",
   "execution_count": 1,
   "id": "moved-crisis",
   "metadata": {},
   "outputs": [],
   "source": [
    "import numpy as np\n",
    "from PIL import Image\n",
    "import scipy.io\n",
    "import torch\n",
    "import torch.nn as nn\n",
    "import torch.nn.functional as F\n",
    "import torchvision.models as models\n",
    "from torchvision import transforms, datasets\n",
    "from torch.utils.data import DataLoader\n",
    "import wandb\n",
    "\n",
    "from voc_dataset import VOCDataset\n",
    "from utils import *\n",
    "\n",
    "USE_WANDB = False"
   ]
  },
  {
   "cell_type": "markdown",
   "id": "angry-prague",
   "metadata": {},
   "source": [
    "## Q0.1: Editing the Dataloader\n",
    "The first part of the assignment involves editing the dataloader so that we can access bounding-box proposals as well as the ground-truth bounding boxes. The ground truth bounding box can be accessed through the VOC Dataset annotations itself and we have completed this part for you in the starter code. \n",
    "\n",
    "Unsupervised bounding box proposals are obtained through methods such as [Selective Search](https://ivi.fnwi.uva.nl/isis/publications/2013/UijlingsIJCV2013/UijlingsIJCV2013.pdf). Since Selective Search is slow to run on each image, we have pre-computed the bounding box proposals for you (you downloaded this in the data preparation step).\n",
    "\n",
    "Your task is to change the dataloader to obtain the proposed bounding boxes for each image. Feel free to experiment with the data in the files to figure out the number of proposals per image, their scores, etc. Returning a dictionary would be convenient here. For the bounding boxes, using the relative positions is usually a better idea since they are invariant to changes in the size of the image."
   ]
  },
  {
   "cell_type": "code",
   "execution_count": 2,
   "id": "thousand-messaging",
   "metadata": {},
   "outputs": [],
   "source": [
    "dataset = VOCDataset('trainval', top_n=10)"
   ]
  },
  {
   "cell_type": "markdown",
   "id": "c2223be0",
   "metadata": {},
   "source": [
    "**Q0.1**: Load the image corresponding to index 2020 and print the GT labels associated with it.\n",
    "\n",
    "**Hint**: items at a particular index can be accesed by usual indexing notation (dataset[idx])"
   ]
  },
  {
   "cell_type": "code",
   "execution_count": 3,
   "id": "confused-witness",
   "metadata": {},
   "outputs": [
    {
     "name": "stdout",
     "output_type": "stream",
     "text": [
      "GT Labels 18\n"
     ]
    }
   ],
   "source": [
    "# TODO: get the image information from index 2020\n",
    "idx = 2020\n",
    "data = dataset.__getitem__(idx)\n",
    "gt_labels = data['gt_classes']\n",
    "print(f'GT Labels {gt_labels[0]}')"
   ]
  },
  {
   "cell_type": "code",
   "execution_count": 4,
   "id": "1ceeb0ec",
   "metadata": {},
   "outputs": [
    {
     "data": {
      "text/plain": [
       "[18]"
      ]
     },
     "execution_count": 4,
     "metadata": {},
     "output_type": "execute_result"
    }
   ],
   "source": [
    "data['gt_classes']"
   ]
  },
  {
   "cell_type": "markdown",
   "id": "rational-recycling",
   "metadata": {},
   "source": [
    "## Q0.2 and Q0.3: Wandb Logging\n",
    "First, let's initialize a Weights and Biases project. "
   ]
  },
  {
   "cell_type": "code",
   "execution_count": 6,
   "id": "conventional-flexibility",
   "metadata": {},
   "outputs": [
    {
     "name": "stderr",
     "output_type": "stream",
     "text": [
      "Failed to detect the name of this notebook, you can set it manually with the WANDB_NOTEBOOK_NAME environment variable to enable code saving.\n",
      "\u001b[34m\u001b[1mwandb\u001b[0m: Currently logged in as: \u001b[33mnmadaan\u001b[0m. Use \u001b[1m`wandb login --relogin`\u001b[0m to force relogin\n"
     ]
    },
    {
     "data": {
      "text/html": [
       "Tracking run with wandb version 0.13.3"
      ],
      "text/plain": [
       "<IPython.core.display.HTML object>"
      ]
     },
     "metadata": {},
     "output_type": "display_data"
    },
    {
     "data": {
      "text/html": [
       "Run data is saved locally in <code>/home/ubuntu/VLR/object-localization/wandb/run-20221005_173539-k4qeujcx</code>"
      ],
      "text/plain": [
       "<IPython.core.display.HTML object>"
      ]
     },
     "metadata": {},
     "output_type": "display_data"
    },
    {
     "data": {
      "text/html": [
       "Syncing run <strong><a href=\"https://wandb.ai/nmadaan/vlr-hw2/runs/k4qeujcx\" target=\"_blank\">jolly-dust-2</a></strong> to <a href=\"https://wandb.ai/nmadaan/vlr-hw2\" target=\"_blank\">Weights & Biases</a> (<a href=\"https://wandb.me/run\" target=\"_blank\">docs</a>)<br/>"
      ],
      "text/plain": [
       "<IPython.core.display.HTML object>"
      ]
     },
     "metadata": {},
     "output_type": "display_data"
    }
   ],
   "source": [
    "USE_WANDB = True\n",
    "if USE_WANDB:\n",
    "    wandb.init(project=\"vlr-hw2\", reinit=True)"
   ]
  },
  {
   "cell_type": "markdown",
   "id": "demanding-ladder",
   "metadata": {},
   "source": [
    "**Q0.2**: Complete this block for overlaying the ground truth box on an image.\n",
    "\n",
    "**Hint**: convert the image tensor to a PIL image and plot it (check `utils.py` for helper functions). You can use [this](https://docs.wandb.ai/library/log) as a reference for logging syntax."
   ]
  },
  {
   "cell_type": "code",
   "execution_count": 7,
   "id": "resistant-concert",
   "metadata": {},
   "outputs": [],
   "source": [
    "class_id_to_label = dict(enumerate(dataset.CLASS_NAMES))\n",
    "\n",
    "# TODO: load the GT information corresponding to index 2020.\n",
    "\n",
    "original_image = data['image']\n",
    "gt_labels = data['gt_classes']\n",
    "gt_boxes = data['gt_boxes']\n",
    "\n",
    "img = wandb.Image(tensor_to_PIL(original_image), boxes={\n",
    "    \"predictions\": {\n",
    "        \"box_data\": get_box_data(gt_labels, gt_boxes),\n",
    "        \"class_labels\": class_id_to_label,\n",
    "    },\n",
    "})\n",
    "\n",
    "# TODO: log the GT bounding box\n",
    "\n",
    "\n",
    "wandb.log({\"GT bounding box\": img})"
   ]
  },
  {
   "cell_type": "markdown",
   "id": "matched-thread",
   "metadata": {},
   "source": [
    "**Q0.3**: Visualize the top 10 bounding proposals corresponding to index 2020.\n",
    "\n",
    "**Hint**: Check the `get_box_data` function in `utils.py` and understand how it is being used. "
   ]
  },
  {
   "cell_type": "code",
   "execution_count": 8,
   "id": "floating-repository",
   "metadata": {},
   "outputs": [],
   "source": [
    "# TODO: plot top ten proposals (of bounding boxes) Generate the box json and push to boxes\n",
    "\n",
    "bounding_box_proposals = data['rois']\n",
    "\n",
    "box_list = []\n",
    "\n",
    "for i in range(len(bounding_box_proposals)):\n",
    "    box_list.append({\n",
    "        \"position\": {\n",
    "                \"minX\": bounding_box_proposals[i][0],\n",
    "                \"minY\": bounding_box_proposals[i][1],\n",
    "                \"maxX\": bounding_box_proposals[i][2],\n",
    "                \"maxY\": bounding_box_proposals[i][3],\n",
    "            }\n",
    "    })\n",
    " \n",
    "\n",
    "img1 = wandb.Image(tensor_to_PIL(original_image), boxes={\n",
    "    \"predictions\": {\n",
    "        \"box_data\": box_list,\n",
    "        \"class_labels\": class_id_to_label,\n",
    "    },\n",
    "})\n",
    "\n",
    "wandb.log({\"Bounding Proposals\": img1})"
   ]
  },
  {
   "cell_type": "code",
   "execution_count": 8,
   "id": "50212aa8",
   "metadata": {},
   "outputs": [
    {
     "data": {
      "text/plain": [
       "[18]"
      ]
     },
     "execution_count": 8,
     "metadata": {},
     "output_type": "execute_result"
    }
   ],
   "source": [
    "gt_labels"
   ]
  },
  {
   "cell_type": "code",
   "execution_count": null,
   "id": "e1f67fc7",
   "metadata": {},
   "outputs": [],
   "source": []
  }
 ],
 "metadata": {
  "kernelspec": {
   "display_name": "Python 3.9.13 ('pytorch')",
   "language": "python",
   "name": "python3"
  },
  "language_info": {
   "codemirror_mode": {
    "name": "ipython",
    "version": 3
   },
   "file_extension": ".py",
   "mimetype": "text/x-python",
   "name": "python",
   "nbconvert_exporter": "python",
   "pygments_lexer": "ipython3",
   "version": "3.9.13"
  },
  "vscode": {
   "interpreter": {
    "hash": "2d58e898dde0263bc564c6968b04150abacfd33eed9b19aaa8e45c040360e146"
   }
  }
 },
 "nbformat": 4,
 "nbformat_minor": 5
}
